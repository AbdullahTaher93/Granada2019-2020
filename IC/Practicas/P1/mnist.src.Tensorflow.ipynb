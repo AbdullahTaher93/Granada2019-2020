{
 "cells": [
  {
   "cell_type": "markdown",
   "metadata": {},
   "source": [
    "# TensorFlow"
   ]
  },
  {
   "cell_type": "markdown",
   "metadata": {},
   "source": [
    "> Ejemplos adaptados del libro **Introduction to Deep Learning** (Eugene Charniak, MIT Press, 2018)"
   ]
  },
  {
   "cell_type": "markdown",
   "metadata": {},
   "source": [
    "Usamos la biblioteca TensorFlow, para lo cual hemos de instalarla previamente. En una instalación de Python de 64 bits, ejecutamos el siguiente comando:\n",
    "\n",
    "`pip3 install --upgrade tensorflow` \n",
    "\n",
    "Si disponemos de GPU en nuestro ordenador, podemos aprovecharla instalando la versión de TensorFlow con soporte para GPU:\n",
    "\n",
    "`pip3 install --upgrade tensorflow-gpu`\n",
    "\n",
    "Posiblemente, también tendremos que actualizar las bibliotecas de Microsoft Visual C++ (https://www.microsoft.com/en-us/download/details.aspx?id=53587) y, obviamente, instalar las bibliotecas correspondientes de NVIDIA para nuestra GPU (p.ej. cuDNN v6.0 para TensorFlow 1.3.0, https://developer.nvidia.com/rdp/cudnn-download).\n",
    "\n",
    "Cuando tenemos todo en orden, ya podemos utilizar TensorFlow desde Python:"
   ]
  },
  {
   "cell_type": "code",
   "execution_count": 1,
   "metadata": {},
   "outputs": [],
   "source": [
    "import tensorflow as tf"
   ]
  },
  {
   "cell_type": "markdown",
   "metadata": {},
   "source": [
    "Empezamos con un simple (e inútil) \"Hola mundo\":"
   ]
  },
  {
   "cell_type": "code",
   "execution_count": 2,
   "metadata": {},
   "outputs": [
    {
     "name": "stdout",
     "output_type": "stream",
     "text": [
      "b'Hello World'\n"
     ]
    }
   ],
   "source": [
    "x = tf.constant(\"Hello World\")\n",
    "sess = tf.Session()\n",
    "print(sess.run(x))\n",
    "sess.close()"
   ]
  },
  {
   "cell_type": "markdown",
   "metadata": {},
   "source": [
    "La salida que obtenemos con la ejecución de lo anterior será una cadena `b'Hello World'`. Si es así, ya podemos empezar a trabajar con TensorFlow en nuestro ordenador..."
   ]
  },
  {
   "cell_type": "markdown",
   "metadata": {},
   "source": [
    "## Grafos de cómputo\n",
    "\n",
    "TensorFlow nos proporciona un API mediante el que definimos el cálculo que deseamos realizar (y la posibilidad de ejecutarlo, ya sea en nuestra CPU o, si disponemos de ella, en nuestra GPU). Por ejemplo, el siguiente fragmento nos permite especificar el grafo de cómputo necesario para sumar dos números:"
   ]
  },
  {
   "cell_type": "code",
   "execution_count": 3,
   "metadata": {},
   "outputs": [],
   "source": [
    "x = tf.constant(2.0)\n",
    "z = tf.placeholder(tf.float32)\n",
    "sess= tf.Session()\n",
    "comp=tf.add(x,z)"
   ]
  },
  {
   "cell_type": "markdown",
   "metadata": {},
   "source": [
    "Cambiando el valor de `z` podemos ir realizando distintas sumas..."
   ]
  },
  {
   "cell_type": "code",
   "execution_count": 4,
   "metadata": {},
   "outputs": [
    {
     "name": "stdout",
     "output_type": "stream",
     "text": [
      "5.0\n",
      "18.0\n",
      "2.0\n"
     ]
    }
   ],
   "source": [
    "print(sess.run(comp,feed_dict={z:3.0})) # Suma 2+3\n",
    "print(sess.run(comp,feed_dict={z:16.0})) # Suma 2+16\n",
    "\n",
    "print(sess.run(x)) # Muestra el valor de x (2.0)"
   ]
  },
  {
   "cell_type": "markdown",
   "metadata": {},
   "source": [
    "Para ejecutar nuestro grafo de cómputo siempre tenemos que darle algún valor a las variables que intervienen en él. Si no lo hacemos, se produce un error en tiempo de ejecución:"
   ]
  },
  {
   "cell_type": "code",
   "execution_count": 5,
   "metadata": {},
   "outputs": [
    {
     "ename": "InvalidArgumentError",
     "evalue": "You must feed a value for placeholder tensor 'Placeholder' with dtype float\n\t [[Node: Placeholder = Placeholder[dtype=DT_FLOAT, shape=<unknown>, _device=\"/job:localhost/replica:0/task:0/gpu:0\"]()]]\n\t [[Node: Add/_7 = _Recv[client_terminated=false, recv_device=\"/job:localhost/replica:0/task:0/cpu:0\", send_device=\"/job:localhost/replica:0/task:0/gpu:0\", send_device_incarnation=1, tensor_name=\"edge_8_Add\", tensor_type=DT_FLOAT, _device=\"/job:localhost/replica:0/task:0/cpu:0\"]()]]\n\nCaused by op 'Placeholder', defined at:\n  File \"c:\\python\\python363-64\\lib\\runpy.py\", line 193, in _run_module_as_main\n    \"__main__\", mod_spec)\n  File \"c:\\python\\python363-64\\lib\\runpy.py\", line 85, in _run_code\n    exec(code, run_globals)\n  File \"c:\\python\\python363-64\\lib\\site-packages\\ipykernel_launcher.py\", line 16, in <module>\n    app.launch_new_instance()\n  File \"c:\\python\\python363-64\\lib\\site-packages\\traitlets\\config\\application.py\", line 658, in launch_instance\n    app.start()\n  File \"c:\\python\\python363-64\\lib\\site-packages\\ipykernel\\kernelapp.py\", line 477, in start\n    ioloop.IOLoop.instance().start()\n  File \"c:\\python\\python363-64\\lib\\site-packages\\zmq\\eventloop\\ioloop.py\", line 177, in start\n    super(ZMQIOLoop, self).start()\n  File \"c:\\python\\python363-64\\lib\\site-packages\\tornado\\ioloop.py\", line 888, in start\n    handler_func(fd_obj, events)\n  File \"c:\\python\\python363-64\\lib\\site-packages\\tornado\\stack_context.py\", line 277, in null_wrapper\n    return fn(*args, **kwargs)\n  File \"c:\\python\\python363-64\\lib\\site-packages\\zmq\\eventloop\\zmqstream.py\", line 440, in _handle_events\n    self._handle_recv()\n  File \"c:\\python\\python363-64\\lib\\site-packages\\zmq\\eventloop\\zmqstream.py\", line 472, in _handle_recv\n    self._run_callback(callback, msg)\n  File \"c:\\python\\python363-64\\lib\\site-packages\\zmq\\eventloop\\zmqstream.py\", line 414, in _run_callback\n    callback(*args, **kwargs)\n  File \"c:\\python\\python363-64\\lib\\site-packages\\tornado\\stack_context.py\", line 277, in null_wrapper\n    return fn(*args, **kwargs)\n  File \"c:\\python\\python363-64\\lib\\site-packages\\ipykernel\\kernelbase.py\", line 283, in dispatcher\n    return self.dispatch_shell(stream, msg)\n  File \"c:\\python\\python363-64\\lib\\site-packages\\ipykernel\\kernelbase.py\", line 235, in dispatch_shell\n    handler(stream, idents, msg)\n  File \"c:\\python\\python363-64\\lib\\site-packages\\ipykernel\\kernelbase.py\", line 399, in execute_request\n    user_expressions, allow_stdin)\n  File \"c:\\python\\python363-64\\lib\\site-packages\\ipykernel\\ipkernel.py\", line 196, in do_execute\n    res = shell.run_cell(code, store_history=store_history, silent=silent)\n  File \"c:\\python\\python363-64\\lib\\site-packages\\ipykernel\\zmqshell.py\", line 533, in run_cell\n    return super(ZMQInteractiveShell, self).run_cell(*args, **kwargs)\n  File \"c:\\python\\python363-64\\lib\\site-packages\\IPython\\core\\interactiveshell.py\", line 2728, in run_cell\n    interactivity=interactivity, compiler=compiler, result=result)\n  File \"c:\\python\\python363-64\\lib\\site-packages\\IPython\\core\\interactiveshell.py\", line 2850, in run_ast_nodes\n    if self.run_code(code, result):\n  File \"c:\\python\\python363-64\\lib\\site-packages\\IPython\\core\\interactiveshell.py\", line 2910, in run_code\n    exec(code_obj, self.user_global_ns, self.user_ns)\n  File \"<ipython-input-3-c934ffe2e914>\", line 2, in <module>\n    z = tf.placeholder(tf.float32)\n  File \"c:\\python\\python363-64\\lib\\site-packages\\tensorflow\\python\\ops\\array_ops.py\", line 1548, in placeholder\n    return gen_array_ops._placeholder(dtype=dtype, shape=shape, name=name)\n  File \"c:\\python\\python363-64\\lib\\site-packages\\tensorflow\\python\\ops\\gen_array_ops.py\", line 2094, in _placeholder\n    name=name)\n  File \"c:\\python\\python363-64\\lib\\site-packages\\tensorflow\\python\\framework\\op_def_library.py\", line 767, in apply_op\n    op_def=op_def)\n  File \"c:\\python\\python363-64\\lib\\site-packages\\tensorflow\\python\\framework\\ops.py\", line 2630, in create_op\n    original_op=self._default_original_op, op_def=op_def)\n  File \"c:\\python\\python363-64\\lib\\site-packages\\tensorflow\\python\\framework\\ops.py\", line 1204, in __init__\n    self._traceback = self._graph._extract_stack()  # pylint: disable=protected-access\n\nInvalidArgumentError (see above for traceback): You must feed a value for placeholder tensor 'Placeholder' with dtype float\n\t [[Node: Placeholder = Placeholder[dtype=DT_FLOAT, shape=<unknown>, _device=\"/job:localhost/replica:0/task:0/gpu:0\"]()]]\n\t [[Node: Add/_7 = _Recv[client_terminated=false, recv_device=\"/job:localhost/replica:0/task:0/cpu:0\", send_device=\"/job:localhost/replica:0/task:0/gpu:0\", send_device_incarnation=1, tensor_name=\"edge_8_Add\", tensor_type=DT_FLOAT, _device=\"/job:localhost/replica:0/task:0/cpu:0\"]()]]\n",
     "output_type": "error",
     "traceback": [
      "\u001b[1;31m---------------------------------------------------------------------------\u001b[0m",
      "\u001b[1;31mInvalidArgumentError\u001b[0m                      Traceback (most recent call last)",
      "\u001b[1;32mc:\\python\\python363-64\\lib\\site-packages\\tensorflow\\python\\client\\session.py\u001b[0m in \u001b[0;36m_do_call\u001b[1;34m(self, fn, *args)\u001b[0m\n\u001b[0;32m   1326\u001b[0m     \u001b[1;32mtry\u001b[0m\u001b[1;33m:\u001b[0m\u001b[1;33m\u001b[0m\u001b[0m\n\u001b[1;32m-> 1327\u001b[1;33m       \u001b[1;32mreturn\u001b[0m \u001b[0mfn\u001b[0m\u001b[1;33m(\u001b[0m\u001b[1;33m*\u001b[0m\u001b[0margs\u001b[0m\u001b[1;33m)\u001b[0m\u001b[1;33m\u001b[0m\u001b[0m\n\u001b[0m\u001b[0;32m   1328\u001b[0m     \u001b[1;32mexcept\u001b[0m \u001b[0merrors\u001b[0m\u001b[1;33m.\u001b[0m\u001b[0mOpError\u001b[0m \u001b[1;32mas\u001b[0m \u001b[0me\u001b[0m\u001b[1;33m:\u001b[0m\u001b[1;33m\u001b[0m\u001b[0m\n",
      "\u001b[1;32mc:\\python\\python363-64\\lib\\site-packages\\tensorflow\\python\\client\\session.py\u001b[0m in \u001b[0;36m_run_fn\u001b[1;34m(session, feed_dict, fetch_list, target_list, options, run_metadata)\u001b[0m\n\u001b[0;32m   1305\u001b[0m                                    \u001b[0mfeed_dict\u001b[0m\u001b[1;33m,\u001b[0m \u001b[0mfetch_list\u001b[0m\u001b[1;33m,\u001b[0m \u001b[0mtarget_list\u001b[0m\u001b[1;33m,\u001b[0m\u001b[1;33m\u001b[0m\u001b[0m\n\u001b[1;32m-> 1306\u001b[1;33m                                    status, run_metadata)\n\u001b[0m\u001b[0;32m   1307\u001b[0m \u001b[1;33m\u001b[0m\u001b[0m\n",
      "\u001b[1;32mc:\\python\\python363-64\\lib\\contextlib.py\u001b[0m in \u001b[0;36m__exit__\u001b[1;34m(self, type, value, traceback)\u001b[0m\n\u001b[0;32m     87\u001b[0m             \u001b[1;32mtry\u001b[0m\u001b[1;33m:\u001b[0m\u001b[1;33m\u001b[0m\u001b[0m\n\u001b[1;32m---> 88\u001b[1;33m                 \u001b[0mnext\u001b[0m\u001b[1;33m(\u001b[0m\u001b[0mself\u001b[0m\u001b[1;33m.\u001b[0m\u001b[0mgen\u001b[0m\u001b[1;33m)\u001b[0m\u001b[1;33m\u001b[0m\u001b[0m\n\u001b[0m\u001b[0;32m     89\u001b[0m             \u001b[1;32mexcept\u001b[0m \u001b[0mStopIteration\u001b[0m\u001b[1;33m:\u001b[0m\u001b[1;33m\u001b[0m\u001b[0m\n",
      "\u001b[1;32mc:\\python\\python363-64\\lib\\site-packages\\tensorflow\\python\\framework\\errors_impl.py\u001b[0m in \u001b[0;36mraise_exception_on_not_ok_status\u001b[1;34m()\u001b[0m\n\u001b[0;32m    465\u001b[0m           \u001b[0mcompat\u001b[0m\u001b[1;33m.\u001b[0m\u001b[0mas_text\u001b[0m\u001b[1;33m(\u001b[0m\u001b[0mpywrap_tensorflow\u001b[0m\u001b[1;33m.\u001b[0m\u001b[0mTF_Message\u001b[0m\u001b[1;33m(\u001b[0m\u001b[0mstatus\u001b[0m\u001b[1;33m)\u001b[0m\u001b[1;33m)\u001b[0m\u001b[1;33m,\u001b[0m\u001b[1;33m\u001b[0m\u001b[0m\n\u001b[1;32m--> 466\u001b[1;33m           pywrap_tensorflow.TF_GetCode(status))\n\u001b[0m\u001b[0;32m    467\u001b[0m   \u001b[1;32mfinally\u001b[0m\u001b[1;33m:\u001b[0m\u001b[1;33m\u001b[0m\u001b[0m\n",
      "\u001b[1;31mInvalidArgumentError\u001b[0m: You must feed a value for placeholder tensor 'Placeholder' with dtype float\n\t [[Node: Placeholder = Placeholder[dtype=DT_FLOAT, shape=<unknown>, _device=\"/job:localhost/replica:0/task:0/gpu:0\"]()]]\n\t [[Node: Add/_7 = _Recv[client_terminated=false, recv_device=\"/job:localhost/replica:0/task:0/cpu:0\", send_device=\"/job:localhost/replica:0/task:0/gpu:0\", send_device_incarnation=1, tensor_name=\"edge_8_Add\", tensor_type=DT_FLOAT, _device=\"/job:localhost/replica:0/task:0/cpu:0\"]()]]",
      "\nDuring handling of the above exception, another exception occurred:\n",
      "\u001b[1;31mInvalidArgumentError\u001b[0m                      Traceback (most recent call last)",
      "\u001b[1;32m<ipython-input-5-2281ddc4722c>\u001b[0m in \u001b[0;36m<module>\u001b[1;34m()\u001b[0m\n\u001b[1;32m----> 1\u001b[1;33m \u001b[0mprint\u001b[0m\u001b[1;33m(\u001b[0m\u001b[0msess\u001b[0m\u001b[1;33m.\u001b[0m\u001b[0mrun\u001b[0m\u001b[1;33m(\u001b[0m\u001b[0mcomp\u001b[0m\u001b[1;33m)\u001b[0m\u001b[1;33m)\u001b[0m\u001b[1;33m\u001b[0m\u001b[0m\n\u001b[0m",
      "\u001b[1;32mc:\\python\\python363-64\\lib\\site-packages\\tensorflow\\python\\client\\session.py\u001b[0m in \u001b[0;36mrun\u001b[1;34m(self, fetches, feed_dict, options, run_metadata)\u001b[0m\n\u001b[0;32m    893\u001b[0m     \u001b[1;32mtry\u001b[0m\u001b[1;33m:\u001b[0m\u001b[1;33m\u001b[0m\u001b[0m\n\u001b[0;32m    894\u001b[0m       result = self._run(None, fetches, feed_dict, options_ptr,\n\u001b[1;32m--> 895\u001b[1;33m                          run_metadata_ptr)\n\u001b[0m\u001b[0;32m    896\u001b[0m       \u001b[1;32mif\u001b[0m \u001b[0mrun_metadata\u001b[0m\u001b[1;33m:\u001b[0m\u001b[1;33m\u001b[0m\u001b[0m\n\u001b[0;32m    897\u001b[0m         \u001b[0mproto_data\u001b[0m \u001b[1;33m=\u001b[0m \u001b[0mtf_session\u001b[0m\u001b[1;33m.\u001b[0m\u001b[0mTF_GetBuffer\u001b[0m\u001b[1;33m(\u001b[0m\u001b[0mrun_metadata_ptr\u001b[0m\u001b[1;33m)\u001b[0m\u001b[1;33m\u001b[0m\u001b[0m\n",
      "\u001b[1;32mc:\\python\\python363-64\\lib\\site-packages\\tensorflow\\python\\client\\session.py\u001b[0m in \u001b[0;36m_run\u001b[1;34m(self, handle, fetches, feed_dict, options, run_metadata)\u001b[0m\n\u001b[0;32m   1122\u001b[0m     \u001b[1;32mif\u001b[0m \u001b[0mfinal_fetches\u001b[0m \u001b[1;32mor\u001b[0m \u001b[0mfinal_targets\u001b[0m \u001b[1;32mor\u001b[0m \u001b[1;33m(\u001b[0m\u001b[0mhandle\u001b[0m \u001b[1;32mand\u001b[0m \u001b[0mfeed_dict_tensor\u001b[0m\u001b[1;33m)\u001b[0m\u001b[1;33m:\u001b[0m\u001b[1;33m\u001b[0m\u001b[0m\n\u001b[0;32m   1123\u001b[0m       results = self._do_run(handle, final_targets, final_fetches,\n\u001b[1;32m-> 1124\u001b[1;33m                              feed_dict_tensor, options, run_metadata)\n\u001b[0m\u001b[0;32m   1125\u001b[0m     \u001b[1;32melse\u001b[0m\u001b[1;33m:\u001b[0m\u001b[1;33m\u001b[0m\u001b[0m\n\u001b[0;32m   1126\u001b[0m       \u001b[0mresults\u001b[0m \u001b[1;33m=\u001b[0m \u001b[1;33m[\u001b[0m\u001b[1;33m]\u001b[0m\u001b[1;33m\u001b[0m\u001b[0m\n",
      "\u001b[1;32mc:\\python\\python363-64\\lib\\site-packages\\tensorflow\\python\\client\\session.py\u001b[0m in \u001b[0;36m_do_run\u001b[1;34m(self, handle, target_list, fetch_list, feed_dict, options, run_metadata)\u001b[0m\n\u001b[0;32m   1319\u001b[0m     \u001b[1;32mif\u001b[0m \u001b[0mhandle\u001b[0m \u001b[1;32mis\u001b[0m \u001b[1;32mNone\u001b[0m\u001b[1;33m:\u001b[0m\u001b[1;33m\u001b[0m\u001b[0m\n\u001b[0;32m   1320\u001b[0m       return self._do_call(_run_fn, self._session, feeds, fetches, targets,\n\u001b[1;32m-> 1321\u001b[1;33m                            options, run_metadata)\n\u001b[0m\u001b[0;32m   1322\u001b[0m     \u001b[1;32melse\u001b[0m\u001b[1;33m:\u001b[0m\u001b[1;33m\u001b[0m\u001b[0m\n\u001b[0;32m   1323\u001b[0m       \u001b[1;32mreturn\u001b[0m \u001b[0mself\u001b[0m\u001b[1;33m.\u001b[0m\u001b[0m_do_call\u001b[0m\u001b[1;33m(\u001b[0m\u001b[0m_prun_fn\u001b[0m\u001b[1;33m,\u001b[0m \u001b[0mself\u001b[0m\u001b[1;33m.\u001b[0m\u001b[0m_session\u001b[0m\u001b[1;33m,\u001b[0m \u001b[0mhandle\u001b[0m\u001b[1;33m,\u001b[0m \u001b[0mfeeds\u001b[0m\u001b[1;33m,\u001b[0m \u001b[0mfetches\u001b[0m\u001b[1;33m)\u001b[0m\u001b[1;33m\u001b[0m\u001b[0m\n",
      "\u001b[1;32mc:\\python\\python363-64\\lib\\site-packages\\tensorflow\\python\\client\\session.py\u001b[0m in \u001b[0;36m_do_call\u001b[1;34m(self, fn, *args)\u001b[0m\n\u001b[0;32m   1338\u001b[0m         \u001b[1;32mexcept\u001b[0m \u001b[0mKeyError\u001b[0m\u001b[1;33m:\u001b[0m\u001b[1;33m\u001b[0m\u001b[0m\n\u001b[0;32m   1339\u001b[0m           \u001b[1;32mpass\u001b[0m\u001b[1;33m\u001b[0m\u001b[0m\n\u001b[1;32m-> 1340\u001b[1;33m       \u001b[1;32mraise\u001b[0m \u001b[0mtype\u001b[0m\u001b[1;33m(\u001b[0m\u001b[0me\u001b[0m\u001b[1;33m)\u001b[0m\u001b[1;33m(\u001b[0m\u001b[0mnode_def\u001b[0m\u001b[1;33m,\u001b[0m \u001b[0mop\u001b[0m\u001b[1;33m,\u001b[0m \u001b[0mmessage\u001b[0m\u001b[1;33m)\u001b[0m\u001b[1;33m\u001b[0m\u001b[0m\n\u001b[0m\u001b[0;32m   1341\u001b[0m \u001b[1;33m\u001b[0m\u001b[0m\n\u001b[0;32m   1342\u001b[0m   \u001b[1;32mdef\u001b[0m \u001b[0m_extend_graph\u001b[0m\u001b[1;33m(\u001b[0m\u001b[0mself\u001b[0m\u001b[1;33m)\u001b[0m\u001b[1;33m:\u001b[0m\u001b[1;33m\u001b[0m\u001b[0m\n",
      "\u001b[1;31mInvalidArgumentError\u001b[0m: You must feed a value for placeholder tensor 'Placeholder' with dtype float\n\t [[Node: Placeholder = Placeholder[dtype=DT_FLOAT, shape=<unknown>, _device=\"/job:localhost/replica:0/task:0/gpu:0\"]()]]\n\t [[Node: Add/_7 = _Recv[client_terminated=false, recv_device=\"/job:localhost/replica:0/task:0/cpu:0\", send_device=\"/job:localhost/replica:0/task:0/gpu:0\", send_device_incarnation=1, tensor_name=\"edge_8_Add\", tensor_type=DT_FLOAT, _device=\"/job:localhost/replica:0/task:0/cpu:0\"]()]]\n\nCaused by op 'Placeholder', defined at:\n  File \"c:\\python\\python363-64\\lib\\runpy.py\", line 193, in _run_module_as_main\n    \"__main__\", mod_spec)\n  File \"c:\\python\\python363-64\\lib\\runpy.py\", line 85, in _run_code\n    exec(code, run_globals)\n  File \"c:\\python\\python363-64\\lib\\site-packages\\ipykernel_launcher.py\", line 16, in <module>\n    app.launch_new_instance()\n  File \"c:\\python\\python363-64\\lib\\site-packages\\traitlets\\config\\application.py\", line 658, in launch_instance\n    app.start()\n  File \"c:\\python\\python363-64\\lib\\site-packages\\ipykernel\\kernelapp.py\", line 477, in start\n    ioloop.IOLoop.instance().start()\n  File \"c:\\python\\python363-64\\lib\\site-packages\\zmq\\eventloop\\ioloop.py\", line 177, in start\n    super(ZMQIOLoop, self).start()\n  File \"c:\\python\\python363-64\\lib\\site-packages\\tornado\\ioloop.py\", line 888, in start\n    handler_func(fd_obj, events)\n  File \"c:\\python\\python363-64\\lib\\site-packages\\tornado\\stack_context.py\", line 277, in null_wrapper\n    return fn(*args, **kwargs)\n  File \"c:\\python\\python363-64\\lib\\site-packages\\zmq\\eventloop\\zmqstream.py\", line 440, in _handle_events\n    self._handle_recv()\n  File \"c:\\python\\python363-64\\lib\\site-packages\\zmq\\eventloop\\zmqstream.py\", line 472, in _handle_recv\n    self._run_callback(callback, msg)\n  File \"c:\\python\\python363-64\\lib\\site-packages\\zmq\\eventloop\\zmqstream.py\", line 414, in _run_callback\n    callback(*args, **kwargs)\n  File \"c:\\python\\python363-64\\lib\\site-packages\\tornado\\stack_context.py\", line 277, in null_wrapper\n    return fn(*args, **kwargs)\n  File \"c:\\python\\python363-64\\lib\\site-packages\\ipykernel\\kernelbase.py\", line 283, in dispatcher\n    return self.dispatch_shell(stream, msg)\n  File \"c:\\python\\python363-64\\lib\\site-packages\\ipykernel\\kernelbase.py\", line 235, in dispatch_shell\n    handler(stream, idents, msg)\n  File \"c:\\python\\python363-64\\lib\\site-packages\\ipykernel\\kernelbase.py\", line 399, in execute_request\n    user_expressions, allow_stdin)\n  File \"c:\\python\\python363-64\\lib\\site-packages\\ipykernel\\ipkernel.py\", line 196, in do_execute\n    res = shell.run_cell(code, store_history=store_history, silent=silent)\n  File \"c:\\python\\python363-64\\lib\\site-packages\\ipykernel\\zmqshell.py\", line 533, in run_cell\n    return super(ZMQInteractiveShell, self).run_cell(*args, **kwargs)\n  File \"c:\\python\\python363-64\\lib\\site-packages\\IPython\\core\\interactiveshell.py\", line 2728, in run_cell\n    interactivity=interactivity, compiler=compiler, result=result)\n  File \"c:\\python\\python363-64\\lib\\site-packages\\IPython\\core\\interactiveshell.py\", line 2850, in run_ast_nodes\n    if self.run_code(code, result):\n  File \"c:\\python\\python363-64\\lib\\site-packages\\IPython\\core\\interactiveshell.py\", line 2910, in run_code\n    exec(code_obj, self.user_global_ns, self.user_ns)\n  File \"<ipython-input-3-c934ffe2e914>\", line 2, in <module>\n    z = tf.placeholder(tf.float32)\n  File \"c:\\python\\python363-64\\lib\\site-packages\\tensorflow\\python\\ops\\array_ops.py\", line 1548, in placeholder\n    return gen_array_ops._placeholder(dtype=dtype, shape=shape, name=name)\n  File \"c:\\python\\python363-64\\lib\\site-packages\\tensorflow\\python\\ops\\gen_array_ops.py\", line 2094, in _placeholder\n    name=name)\n  File \"c:\\python\\python363-64\\lib\\site-packages\\tensorflow\\python\\framework\\op_def_library.py\", line 767, in apply_op\n    op_def=op_def)\n  File \"c:\\python\\python363-64\\lib\\site-packages\\tensorflow\\python\\framework\\ops.py\", line 2630, in create_op\n    original_op=self._default_original_op, op_def=op_def)\n  File \"c:\\python\\python363-64\\lib\\site-packages\\tensorflow\\python\\framework\\ops.py\", line 1204, in __init__\n    self._traceback = self._graph._extract_stack()  # pylint: disable=protected-access\n\nInvalidArgumentError (see above for traceback): You must feed a value for placeholder tensor 'Placeholder' with dtype float\n\t [[Node: Placeholder = Placeholder[dtype=DT_FLOAT, shape=<unknown>, _device=\"/job:localhost/replica:0/task:0/gpu:0\"]()]]\n\t [[Node: Add/_7 = _Recv[client_terminated=false, recv_device=\"/job:localhost/replica:0/task:0/cpu:0\", send_device=\"/job:localhost/replica:0/task:0/gpu:0\", send_device_incarnation=1, tensor_name=\"edge_8_Add\", tensor_type=DT_FLOAT, _device=\"/job:localhost/replica:0/task:0/cpu:0\"]()]]\n"
     ]
    }
   ],
   "source": [
    "print(sess.run(comp))"
   ]
  },
  {
   "cell_type": "markdown",
   "metadata": {},
   "source": [
    "En el extenso mensaje de error podemos ver que nuestro grafo de cómputo incluía una variable (placeholder) a la que no hemos dado un valor, lo que genera un error de tipo `InvalidArgumentError`. Buceando un poco en el volcado de pila incluido en el mensaje de error, podemos encontrar la línea en la que se define el elemento del grafo de cómputo causante del error `z = tf.placeholder(tf.float32)`. Al llamar al método `run` hemos de indicar un valor para el parámetro `z` de nuestro grafo de cómputo."
   ]
  },
  {
   "cell_type": "code",
   "execution_count": 6,
   "metadata": {},
   "outputs": [],
   "source": [
    "sess.close()"
   ]
  },
  {
   "cell_type": "markdown",
   "metadata": {},
   "source": [
    "TensorFlow se llama así porque los tensores (arrays multidimensionales) son su estructura de datos básica y se basa en la definición del flujo de datos (data flow) del grafo de cómputo que describe el cálculo que deseamos realizar."
   ]
  },
  {
   "cell_type": "markdown",
   "metadata": {},
   "source": [
    "Los valores escalares son tensores de cero dimensiones, los vectores tienen una dimensión, las matrices tienen dos dimensiones y, en general, los tensores pueden ser arrays multidimensionales de n dimensiones. Si deseamos crear un tensor, hemos de especificar sus dimensiones, p.ej. una matriz de 28x28:"
   ]
  },
  {
   "cell_type": "code",
   "execution_count": 7,
   "metadata": {},
   "outputs": [],
   "source": [
    "img=tf.placeholder(tf.float32,shape=[28,28])"
   ]
  },
  {
   "cell_type": "markdown",
   "metadata": {},
   "source": [
    "Cuando creamos una red neuronal, aparte de las entradas que deseamos procesar (definida como un `placeholder`) también necesitaremos los parámetros de la red, para los que utilizaremos variables de TensorFlow (TensorFlow llama `Variable`s a los parámetros de un grafo de cómputo). Como queremos que esos parámetros tengan inicialmente un valor, primero creamos los tensores correspondientes, les damos los valores que queramos y, por último, los convertimos en una `Variable` de TensorFlow:"
   ]
  },
  {
   "cell_type": "code",
   "execution_count": 10,
   "metadata": {},
   "outputs": [
    {
     "name": "stdout",
     "output_type": "stream",
     "text": [
      "[-0.21292622 -0.03805812  0.18321925  0.01711052 -0.03555509 -0.03651926\n",
      "  0.08914804 -0.01352216  0.0483956   0.00181377]\n"
     ]
    }
   ],
   "source": [
    "bt = tf.random_normal([10], stddev=.1)\n",
    "b = tf.Variable(bt)\n",
    "\n",
    "W = tf.Variable(tf.random_normal([784,10],stddev=.1))\n",
    "\n",
    "sess=tf.Session()\n",
    "sess.run(tf.global_variables_initializer())\n",
    "\n",
    "print(sess.run(b))\n",
    "\n",
    "sess.close()"
   ]
  },
  {
   "cell_type": "markdown",
   "metadata": {},
   "source": [
    "Antes de poder utilizar las variables en una sesión de TensorFlow tenemos que inicializarlas en la sesión que hemos creado (con la llamada a `global_variables_initializer`).\n",
    "\n",
    "Ya estamos en condiciones de empezar a hacer algo más útil..."
   ]
  },
  {
   "cell_type": "markdown",
   "metadata": {},
   "source": [
    "## Nuestra primera red neuronal en TensorFlow"
   ]
  },
  {
   "cell_type": "markdown",
   "metadata": {},
   "source": [
    "Para nuestros experimentos con TensorFlow, recurrimos al conjunto de datos MNIST:"
   ]
  },
  {
   "cell_type": "code",
   "execution_count": 41,
   "metadata": {},
   "outputs": [
    {
     "name": "stdout",
     "output_type": "stream",
     "text": [
      "Leyendo el conjunto de datos...\n",
      "Extracting MNIST_data/train-images-idx3-ubyte.gz\n",
      "Extracting MNIST_data/train-labels-idx1-ubyte.gz\n",
      "Extracting MNIST_data/t10k-images-idx3-ubyte.gz\n",
      "Extracting MNIST_data/t10k-labels-idx1-ubyte.gz\n"
     ]
    }
   ],
   "source": [
    "# Conjunto de datos MNIST\n",
    "\n",
    "from tensorflow.examples.tutorials.mnist import input_data\n",
    "\n",
    "print(\"Leyendo el conjunto de datos...\")\n",
    "mnist = input_data.read_data_sets(\"MNIST_data/\", one_hot=True)"
   ]
  },
  {
   "cell_type": "markdown",
   "metadata": {},
   "source": [
    "Aquí definimos, entrenamos y evaluamos nuestra primera red neuronal:"
   ]
  },
  {
   "cell_type": "code",
   "execution_count": 79,
   "metadata": {},
   "outputs": [
    {
     "name": "stdout",
     "output_type": "stream",
     "text": [
      "Entrenando la red neuronal...\n",
      "Precisión sobre el conjunto de prueba: 91.58%\n"
     ]
    }
   ],
   "source": [
    "# Definición del grafo de cómputo\n",
    "\n",
    "batchSz=100\n",
    "\n",
    "W = tf.Variable(tf.random_normal([784, 10],stddev=.1))\n",
    "b = tf.Variable(tf.random_normal([10],stddev=.1))\n",
    "\n",
    "img = tf.placeholder(tf.float32, [batchSz,784])\n",
    "ans = tf.placeholder(tf.float32, [batchSz, 10])\n",
    "\n",
    "prbs = tf.nn.softmax(tf.matmul(img, W) + b)\n",
    "\n",
    "# Función de coste para entrenar la red\n",
    "xEnt = tf.reduce_mean(-tf.reduce_sum(ans * tf.log(prbs), reduction_indices=[1]))\n",
    "\n",
    "# Algoritmo de entrenamiento de la red\n",
    "train = tf.train.GradientDescentOptimizer(0.5).minimize(xEnt)\n",
    "\n",
    "# Evalluación de la precisión de la red\n",
    "numCorrect= tf.equal(tf.argmax(prbs,1), tf.argmax(ans,1))\n",
    "accuracy = tf.reduce_mean(tf.cast(numCorrect, tf.float32))\n",
    "\n",
    "\n",
    "# Sesión de TensorFlow\n",
    "sess = tf.Session()\n",
    "sess.run(tf.global_variables_initializer())\n",
    "\n",
    "# Entrenamiento de la red (1000 minilotes de 100 ejemplos)\n",
    "print(\"Entrenando la red neuronal...\")\n",
    "for i in range(1000):\n",
    "    imgs, anss = mnist.train.next_batch(batchSz)\n",
    "    sess.run(train, feed_dict={img: imgs, ans: anss})\n",
    "\n",
    "# Estimación de la precisión de la red sobre el conjunto de prueba [test]\n",
    "sumAcc=0\n",
    "for i in range(100):\n",
    "    imgs, anss= mnist.test.next_batch(batchSz)\n",
    "    sumAcc+=sess.run(accuracy, feed_dict={img: imgs, ans: anss})\n",
    "print(\"Precisión sobre el conjunto de prueba: {0:.2f}%\".format(sumAcc))\n",
    "\n",
    "sess.close()"
   ]
  },
  {
   "cell_type": "markdown",
   "metadata": {},
   "source": [
    "Tras sólo unos segundos, obtenemos una precisión superior al 90% en MNIST (cercano al 92%). No está nada mal para nuestro primer intento..."
   ]
  },
  {
   "cell_type": "markdown",
   "metadata": {},
   "source": [
    "# Implementación de una red neuronal multicapa en TensorFlow"
   ]
  },
  {
   "cell_type": "markdown",
   "metadata": {},
   "source": [
    "Mediante el siguiente fragmento creamos la estructura de nuestra red, con una primera capa de unidades ReLU (neuronales lineales rectificadas) y una capa de salida de tipo softmax (para problemas de clasificación como MNIST):"
   ]
  },
  {
   "cell_type": "code",
   "execution_count": 81,
   "metadata": {},
   "outputs": [],
   "source": [
    "batchSz=100\n",
    "\n",
    "img = tf.placeholder(tf.float32, [batchSz,784])\n",
    "ans = tf.placeholder(tf.float32, [batchSz, 10])\n",
    "\n",
    "U = tf.Variable(tf.random_normal([784,784], stddev=.1))\n",
    "bU = tf.Variable(tf.random_normal([784], stddev=.1))\n",
    "L1Output = tf.matmul(img,U)+bU\n",
    "L1Output = tf.nn.relu(L1Output)\n",
    "\n",
    "V = tf.Variable(tf.random_normal([784,10], stddev=.1))\n",
    "prbs = tf.nn.softmax(tf.matmul(L1Output,V))"
   ]
  },
  {
   "cell_type": "markdown",
   "metadata": {},
   "source": [
    "Para entrenar la red y evaluar su rendimiento sobre el conjunto de prueba nos vale el mismo código del ejemplo anterior:"
   ]
  },
  {
   "cell_type": "code",
   "execution_count": 82,
   "metadata": {},
   "outputs": [
    {
     "name": "stdout",
     "output_type": "stream",
     "text": [
      "Entrenando la red neuronal...\n",
      "Precisión sobre el conjunto de prueba: 96.39%\n"
     ]
    }
   ],
   "source": [
    "# Función de coste para entrenar la red\n",
    "xEnt = tf.reduce_mean(-tf.reduce_sum(ans * tf.log(prbs), reduction_indices=[1]))\n",
    "\n",
    "# Algoritmo de entrenamiento de la red\n",
    "train = tf.train.GradientDescentOptimizer(0.2).minimize(xEnt)\n",
    "\n",
    "# Evalluación de la precisión de la red\n",
    "numCorrect= tf.equal(tf.argmax(prbs,1), tf.argmax(ans,1))\n",
    "accuracy = tf.reduce_mean(tf.cast(numCorrect, tf.float32))\n",
    "\n",
    "\n",
    "# Sesión de TensorFlow\n",
    "sess = tf.Session()\n",
    "sess.run(tf.global_variables_initializer())\n",
    "\n",
    "# Entrenamiento de la red (1000 minilotes de 100 ejemplos)\n",
    "print(\"Entrenando la red neuronal...\")\n",
    "for i in range(1000):\n",
    "    imgs, anss = mnist.train.next_batch(batchSz)\n",
    "    sess.run(train, feed_dict={img: imgs, ans: anss})\n",
    "\n",
    "# Estimación de la precisión de la red sobre el conjunto de prueba [test]\n",
    "sumAcc=0\n",
    "for i in range(100):\n",
    "    imgs, anss= mnist.test.next_batch(batchSz)\n",
    "    sumAcc+=sess.run(accuracy, feed_dict={img: imgs, ans: anss})\n",
    "print(\"Precisión sobre el conjunto de prueba: {0:.2f}%\".format(sumAcc))\n",
    "\n",
    "sess.close()"
   ]
  },
  {
   "cell_type": "markdown",
   "metadata": {},
   "source": [
    "Con sólo una capa de neuronas ocultas, la precisión de nuestra red neuronal se acerca ya al 97% :-)"
   ]
  },
  {
   "cell_type": "markdown",
   "metadata": {},
   "source": [
    "NOTA: Si eliminamos el componente no lineal que hemos introducido en la capa oculta de la red (la función de activación `relu`), la precisión de nuestra red volvería al 92% del ejemplo anterior."
   ]
  },
  {
   "cell_type": "markdown",
   "metadata": {},
   "source": [
    "## Monitorización del entrenamiento de la red en TensorFlow"
   ]
  },
  {
   "cell_type": "markdown",
   "metadata": {},
   "source": [
    "Mostrar la precisión de la red conforme avanza su entrenamiento es una buena práctica (p.ej. para comprobar si el algoritmo de optimización en que se basa el entrenamiento de la red converge o no). Para ello, sólo tenemos que introducir una pequeña modificación en el bucle de entrenamiento. Donde antes ponía\n",
    "\n",
    "`sess.run(train, feed_dict={img: imgs, ans: anss})`\n",
    "\n",
    "ahora pondremos\n",
    "\n",
    "`acc,_ = sess.run([accuracy,train], feed_dict={img: imgs, ans: anss})`\n",
    "\n",
    "Aquí tenemos el bucle modificado, con un `print` periódico adicional para mostrar la precisión de la red sobre el minilote de entrenamiento:"
   ]
  },
  {
   "cell_type": "code",
   "execution_count": 83,
   "metadata": {},
   "outputs": [
    {
     "name": "stdout",
     "output_type": "stream",
     "text": [
      "Entrenando la red neuronal...\n",
      "Precisión sobre el minilote de entrenamiento: 9.00%\n",
      "Precisión sobre el minilote de entrenamiento: 88.00%\n",
      "Precisión sobre el minilote de entrenamiento: 93.00%\n",
      "Precisión sobre el minilote de entrenamiento: 97.00%\n",
      "Precisión sobre el minilote de entrenamiento: 97.00%\n",
      "Precisión sobre el minilote de entrenamiento: 94.00%\n",
      "Precisión sobre el minilote de entrenamiento: 94.00%\n",
      "Precisión sobre el minilote de entrenamiento: 93.00%\n",
      "Precisión sobre el minilote de entrenamiento: 89.00%\n",
      "Precisión sobre el minilote de entrenamiento: 99.00%\n",
      "Precisión sobre el conjunto de prueba: 96.40%\n"
     ]
    }
   ],
   "source": [
    "# Sesión de TensorFlow\n",
    "sess = tf.Session()\n",
    "sess.run(tf.global_variables_initializer())\n",
    "\n",
    "# Entrenamiento de la red (1000 minilotes de 100 ejemplos)\n",
    "print(\"Entrenando la red neuronal...\")\n",
    "for i in range(1000):\n",
    "    imgs, anss = mnist.train.next_batch(batchSz)\n",
    "    acc,_ = sess.run([accuracy,train], feed_dict={img: imgs, ans: anss})\n",
    "    if i % 100 == 0:\n",
    "        print(\"Precisión sobre el minilote de entrenamiento: {0:.2f}%\".format(100*acc))\n",
    "\n",
    "# Estimación de la precisión de la red sobre el conjunto de prueba [test]\n",
    "sumAcc=0\n",
    "for i in range(100):\n",
    "    imgs, anss= mnist.test.next_batch(batchSz)\n",
    "    sumAcc+=sess.run(accuracy, feed_dict={img: imgs, ans: anss})\n",
    "print(\"Precisión sobre el conjunto de prueba: {0:.2f}%\".format(sumAcc))\n",
    "\n",
    "sess.close()"
   ]
  },
  {
   "cell_type": "markdown",
   "metadata": {},
   "source": [
    "En la práctica, no obstante, estaremos más interesados en la evolución del error sobre un conjunto de validación independiente que nos ayude a determinar cuándo finalizar el entrenamiento de la red neuronal (usando una técnica conocida como **early stopping** o _parada temprana_)."
   ]
  }
 ],
 "metadata": {
  "kernelspec": {
   "display_name": "Python 3",
   "language": "python",
   "name": "python3"
  },
  "language_info": {
   "codemirror_mode": {
    "name": "ipython",
    "version": 3
   },
   "file_extension": ".py",
   "mimetype": "text/x-python",
   "name": "python",
   "nbconvert_exporter": "python",
   "pygments_lexer": "ipython3",
   "version": "3.6.3"
  }
 },
 "nbformat": 4,
 "nbformat_minor": 2
}
